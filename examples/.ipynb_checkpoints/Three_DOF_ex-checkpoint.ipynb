{
 "cells": [
  {
   "cell_type": "code",
   "execution_count": 1,
   "metadata": {
    "collapsed": false
   },
   "outputs": [
    {
     "name": "stdout",
     "output_type": "stream",
     "text": [
      "\n",
      " The old results have all been deleted! \n",
      " \n"
     ]
    },
    {
     "name": "stderr",
     "output_type": "stream",
     "text": [
      "/home/febbo/.julia/v0.5/Conda/deps/usr/lib/python2.7/site-packages/matplotlib/font_manager.py:1288: UserWarning: findfont: Font family [u'Helvetica'] not found. Falling back to Bitstream Vera Sans\n",
      "  (prop.get_family(), self.defaultFamily[fontext]))\n",
      "INFO: Saved animation to /home/febbo/.julia/v0.5/VehicleModels/examples/testing/position.gif\n"
     ]
    },
    {
     "data": {
      "text/html": [
       "<img src=\"position.gif?0.12473246762343204>\" />"
      ],
      "text/plain": [
       "Plots.AnimatedGif(\"/home/febbo/.julia/v0.5/VehicleModels/examples/testing/position.gif\")"
      ]
     },
     "execution_count": 1,
     "metadata": {},
     "output_type": "execute_result"
    }
   ],
   "source": [
    "using VehicleModels, Plots, DataFrames\n",
    "using PrettyPlots\n",
    "# Name For Resutls\n",
    "results_dir = string(\"testing\");\n",
    "\n",
    "dfs = Vector{DataFrame}(2) # create am empty DataFrame\n",
    "\n",
    "# read in sample data\n",
    "s_data = readtable(\"settings_data.csv\")\n",
    "obs_data = readtable(\"obstacle_data.csv\")\n",
    "dfs[1] = readtable(\"STATES.csv\") # according to optimization\n",
    "t_data = float(dfs[1][:t]);\n",
    "SR_data = float(dfs[1][:SR]);\n",
    "Jx_data = float(dfs[1][:Jx]);\n",
    "t0=dfs[1][:t][1];tf=dfs[1][:t][end];\n",
    "x0 = [dfs[1][:X][1],                 # 1. X, position\n",
    "      dfs[1][:Y][1],                 # 2. Y, position\n",
    "      dfs[1][:V][1],                 # 3. V, Lateral Speed\n",
    "      dfs[1][:r][1],                 # 4. r, Yaw Rate\n",
    "      dfs[1][:SA][1],                # 5. SA, Steering Angle\n",
    "      dfs[1][:PSI][1],               # 6. PSI, Yaw angle\n",
    "      dfs[1][:U][1],                 # 7. U, Longitudinal Speed\n",
    "      dfs[1][:Ax][1]];               # 8. Ax, Longitudinal Acceleration\n",
    "\n",
    "pa = Vpara(); # initialize parameter set\n",
    "sol = Three_DOF(pa,x0,t_data,SR_data,Jx_data,t0,tf)\n",
    "\n",
    "# extract data\n",
    "t0=sol.t[1]; tf=sol.t[end]; pts = length(dfs[1][:V]);  #does not have to be same size, just doing this so the animation looks OK\n",
    "x = [sol(t)[1] for t in linspace(t0,tf,pts)];\n",
    "y = [sol(t)[2] for t in linspace(t0,tf,pts)];\n",
    "v = [sol(t)[3] for t in linspace(t0,tf,pts)];\n",
    "r = [sol(t)[4] for t in linspace(t0,tf,pts)];\n",
    "sa = [sol(t)[5] for t in linspace(t0,tf,pts)];\n",
    "psi = [sol(t)[6] for t in linspace(t0,tf,pts)];\n",
    "u = [sol(t)[7] for t in linspace(t0,tf,pts)];\n",
    "ax = [sol(t)[8] for t in linspace(t0,tf,pts)];\n",
    "\n",
    "# build data for plots\n",
    "t = convert(Vector, linspace(t0,tf,pts));\n",
    "sp_SR = Linear_Spline(t_data, SR_data);\n",
    "sp_Jx = Linear_Spline(t_data, Jx_data);\n",
    "#sr  = sp_SR(t); # using Interpolations.jl\n",
    "#jx  = sp_Jx(t); # using Interpolations.jl\n",
    "sr  = sp_SR[t];\n",
    "jx  = sp_Jx[t];\n",
    "\n",
    "# put the data into a DataFrame\n",
    "dfs[2]=x_to_DataFrame(t,x,y,sa,ax,psi,u,v,r,jx,sr) # according to ODE equations (RK4)\n",
    "\n",
    "# plot the results\n",
    "@unpack_Vpara pa  # unpack the parameters for the plots\n",
    "\n",
    "all_plots(dfs,[\"opt.\",\"RK4\"],results_dir,obs_data,s_data,pa)\n",
    "\n",
    "# simulate (this takes a while, if you want reduce the number of frames!!)\n",
    "panim_fun(dfs,[\"opt.\",\"RK4\"], results_dir, obs_data,s_data,pa)\n"
   ]
  },
  {
   "cell_type": "code",
   "execution_count": 3,
   "metadata": {
    "collapsed": true
   },
   "outputs": [],
   "source": []
  }
 ],
 "metadata": {
  "anaconda-cloud": {},
  "kernelspec": {
   "display_name": "Julia 0.5.0",
   "language": "julia",
   "name": "julia-0.5"
  },
  "language_info": {
   "file_extension": ".jl",
   "mimetype": "application/julia",
   "name": "julia",
   "version": "0.5.0"
  }
 },
 "nbformat": 4,
 "nbformat_minor": 1
}
