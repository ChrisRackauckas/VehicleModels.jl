{
 "cells": [
  {
   "cell_type": "markdown",
   "metadata": {},
   "source": [
    "# Test"
   ]
  },
  {
   "cell_type": "code",
   "execution_count": 1,
   "metadata": {
    "collapsed": false
   },
   "outputs": [
    {
     "name": "stderr",
     "output_type": "stream",
     "text": [
      "WARNING: sin{T <: Number}(x::AbstractArray{T}) is deprecated, use sin.(x) instead.\n",
      " in depwarn(::String, ::Symbol) at ./deprecated.jl:64\n",
      " in sin(::FloatRange{Float64}) at ./deprecated.jl:50\n",
      " in f(::UnitRange{Int64}) at ./In[1]:4\n",
      " in include_string(::String, ::String) at ./loading.jl:471\n",
      " in execute_request(::ZMQ.Socket, ::IJulia.Msg) at /home/febbo/.julia/v0.6/IJulia/src/execute_request.jl:177\n",
      " in eventloop(::ZMQ.Socket) at /home/febbo/.julia/v0.6/IJulia/src/eventloop.jl:8\n",
      " in (::IJulia.##9#15)() at ./task.jl:363\n",
      "while loading In[1], in expression starting on line 7\n"
     ]
    },
    {
     "ename": "LoadError",
     "evalue": "LoadError: MethodError: Cannot `convert` an object of type Type{Interpolations.Linear} to an object of type Interpolations.BSpline{D<:Interpolations.Degree}\nThis may have arisen from a call to the constructor Interpolations.BSpline{D<:Interpolations.Degree}(...),\nsince type constructors fall back to convert methods.\nwhile loading In[1], in expression starting on line 12",
     "output_type": "error",
     "traceback": [
      "LoadError: MethodError: Cannot `convert` an object of type Type{Interpolations.Linear} to an object of type Interpolations.BSpline{D<:Interpolations.Degree}\nThis may have arisen from a call to the constructor Interpolations.BSpline{D<:Interpolations.Degree}(...),\nsince type constructors fall back to convert methods.\nwhile loading In[1], in expression starting on line 12",
      "",
      " in Interpolations.BSpline{D<:Interpolations.Degree}(::Type{T}) at ./sysimg.jl:53"
     ]
    }
   ],
   "source": [
    "using Interpolations\n",
    "\n",
    "nx = 10\n",
    "f(x) = sin(2pi/(nx-1) * (x-1))\n",
    "\n",
    "xcoarse = 1:nx\n",
    "ycoarse = f(xcoarse);\n",
    "\n",
    "xfine = 1:.1:xcoarse[end]\n",
    "yfine = f(xfine);\n",
    "\n",
    "yitp = interpolate(ycoarse)\n",
    "\n"
   ]
  },
  {
   "cell_type": "code",
   "execution_count": 1,
   "metadata": {
    "collapsed": false
   },
   "outputs": [
    {
     "ename": "LoadError",
     "evalue": "LoadError: UndefVarError: plot not defined\nwhile loading In[1], in expression starting on line 143",
     "output_type": "error",
     "traceback": [
      "LoadError: UndefVarError: plot not defined\nwhile loading In[1], in expression starting on line 143",
      ""
     ]
    }
   ],
   "source": [
    "# my sample data\n",
    "t = [0\n",
    "0.2\n",
    "0.4\n",
    "0.6\n",
    "0.8\n",
    "1\n",
    "1.2\n",
    "1.4\n",
    "1.6\n",
    "1.8\n",
    "2\n",
    "2.2\n",
    "2.4\n",
    "2.5625254652\n",
    "2.6945724434\n",
    "2.8211411298\n",
    "2.9456563148\n",
    "3.0694686113\n",
    "3.1936246235\n",
    "3.3231668856\n",
    "3.4324694026\n",
    "3.5430052217\n",
    "3.7430052217\n",
    "3.9430052217\n",
    "4.1430052217\n",
    "4.3430052217\n",
    "4.5430052217\n",
    "4.5920196938\n",
    "4.7920196938\n",
    "4.9920196938\n",
    "5.1920196938\n",
    "5.3920196938\n",
    "5.5920196938\n",
    "5.7920196938\n",
    "5.9920196938\n",
    "5.9920196938\n",
    "6.1695877619\n",
    "6.3695877619\n",
    "6.5695877619\n",
    "6.7695877619\n",
    "6.9695877619\n",
    "6.9695877619\n",
    "6.9695877619\n",
    "6.9695877619\n",
    "6.9695877619\n",
    "6.9695877619\n",
    "];\n",
    "Jx = [5.61135662391319E-08\n",
    "-0.0616036511\n",
    "-1.0197135076\n",
    "-1.0780454538\n",
    "-1.1324064293\n",
    "-1.3214179156\n",
    "-1.614177061\n",
    "-1.8973743286\n",
    "-2.0434753828\n",
    "-1.9297006891\n",
    "-1.4625102491\n",
    "-0.6216241474\n",
    "0.4832556197\n",
    "1.2039505326\n",
    "1.433304725\n",
    "1.531794313\n",
    "1.5184041471\n",
    "1.376652329\n",
    "1.0635706282\n",
    "0.5737716526\n",
    "0.3301583823\n",
    "-0.0714065745\n",
    "0.259051183\n",
    "0.9707735981\n",
    "1.8380844649\n",
    "1.98731899\n",
    "1.6678231892\n",
    "1.5301117987\n",
    "0.9589880931\n",
    "0.402598967\n",
    "0.0489742772\n",
    "-0.0678184618\n",
    "-0.0654245957\n",
    "-0.0631603825\n",
    "-0.0712491424\n",
    "-0.0611688363\n",
    "-0.0592119878\n",
    "-0.0572819447\n",
    "-0.0554553267\n",
    "-0.0537266318\n",
    "-0.081480062\n",
    "-0.0606816476\n",
    "-0.0400199736\n",
    "-0.0193076859\n",
    "-0.0002758555\n",
    "    0];\n",
    "SR = [ 0.0018378341\n",
    "-0.0872664626\n",
    "-0.0538683515\n",
    "-0.0122280134\n",
    "-0.0618314208\n",
    "-0.0872664626\n",
    "-0.0872664626\n",
    "-0.0872664626\n",
    "-0.0872664626\n",
    "-0.0872664626\n",
    "-0.0872664626\n",
    "-0.0872664626\n",
    "-0.0824280405\n",
    "0.0871204536\n",
    "0.0623013591\n",
    "0.0215345747\n",
    "-0.0135454874\n",
    "-0.0354208073\n",
    "-0.0468170382\n",
    "-0.0176921857\n",
    "-0.0110701911\n",
    "-0.0084612968\n",
    "-0.0062552611\n",
    "0.0696493881\n",
    "0.0872664626\n",
    "0.0872664626\n",
    "0.0872664626\n",
    "0.0872664626\n",
    "0.0872664626\n",
    "0.0872664626\n",
    "0.0872664626\n",
    "0.0872664626\n",
    "0.0872664626\n",
    "0.0835992629\n",
    "-0.0116545932\n",
    "-0.0454165845\n",
    "-0.0414031286\n",
    "-0.0279195574\n",
    "-0.0160595698\n",
    "-0.0089313523\n",
    "-0.0063454073\n",
    "-0.0047466238\n",
    "-0.0030895159\n",
    "-0.0011262285\n",
    "-0.0010876484\n",
    "0\n",
    "];\n",
    "\n",
    "plot(t,SR, label = \"SR\")\n",
    "plot!(t,Jx, label = \"Jx\")"
   ]
  },
  {
   "cell_type": "code",
   "execution_count": 4,
   "metadata": {
    "collapsed": false
   },
   "outputs": [],
   "source": [
    "\n",
    "\n"
   ]
  },
  {
   "cell_type": "code",
   "execution_count": null,
   "metadata": {
    "collapsed": true
   },
   "outputs": [],
   "source": []
  }
 ],
 "metadata": {
  "anaconda-cloud": {},
  "kernelspec": {
   "display_name": "Julia 0.6.0-dev",
   "language": "julia",
   "name": "julia-0.6"
  },
  "language_info": {
   "file_extension": ".jl",
   "mimetype": "application/julia",
   "name": "julia",
   "version": "0.6.0"
  }
 },
 "nbformat": 4,
 "nbformat_minor": 0
}
