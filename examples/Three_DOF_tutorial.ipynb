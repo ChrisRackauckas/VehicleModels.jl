{
 "cells": [
  {
   "cell_type": "code",
   "execution_count": 2,
   "metadata": {
    "collapsed": false
   },
   "outputs": [],
   "source": [
    "using VehicleModels\n",
    "#Three_DOF()"
   ]
  },
  {
   "cell_type": "code",
   "execution_count": 3,
   "metadata": {
    "collapsed": true
   },
   "outputs": [],
   "source": [
    "# my sample data; from all goal\n",
    "t = [0\n",
    "0.2\n",
    "0.4\n",
    "0.6\n",
    "0.8\n",
    "1\n",
    "1.2\n",
    "1.4\n",
    "1.6\n",
    "1.8\n",
    "2\n",
    "2.2\n",
    "2.4\n",
    "2.5625254652\n",
    "2.6945724434\n",
    "2.8211411298\n",
    "2.9456563148\n",
    "3.0694686113\n",
    "3.1936246235\n",
    "3.3231668856\n",
    "3.4324694026\n",
    "3.5430052217\n",
    "3.7430052217\n",
    "3.9430052217\n",
    "4.1430052217\n",
    "4.3430052217\n",
    "4.5430052217\n",
    "4.5920196938\n",
    "4.7920196938\n",
    "4.9920196938\n",
    "5.1920196938\n",
    "5.3920196938\n",
    "5.5920196938\n",
    "5.7920196938\n",
    "5.9920196938\n",
    "5.9920196938\n",
    "6.1695877619\n",
    "6.3695877619\n",
    "6.5695877619\n",
    "6.7695877619\n",
    "6.9695877619\n",
    "6.9695877619\n",
    "6.9695877619\n",
    "6.9695877619\n",
    "6.9695877619\n",
    "6.9695877619];\n",
    "Jx = [5.61135662391319E-08\n",
    "-0.0616036511\n",
    "-1.0197135076\n",
    "-1.0780454538\n",
    "-1.1324064293\n",
    "-1.3214179156\n",
    "-1.614177061\n",
    "-1.8973743286\n",
    "-2.0434753828\n",
    "-1.9297006891\n",
    "-1.4625102491\n",
    "-0.6216241474\n",
    "0.4832556197\n",
    "1.2039505326\n",
    "1.433304725\n",
    "1.531794313\n",
    "1.5184041471\n",
    "1.376652329\n",
    "1.0635706282\n",
    "0.5737716526\n",
    "0.3301583823\n",
    "-0.0714065745\n",
    "0.259051183\n",
    "0.9707735981\n",
    "1.8380844649\n",
    "1.98731899\n",
    "1.6678231892\n",
    "1.5301117987\n",
    "0.9589880931\n",
    "0.402598967\n",
    "0.0489742772\n",
    "-0.0678184618\n",
    "-0.0654245957\n",
    "-0.0631603825\n",
    "-0.0712491424\n",
    "-0.0611688363\n",
    "-0.0592119878\n",
    "-0.0572819447\n",
    "-0.0554553267\n",
    "-0.0537266318\n",
    "-0.081480062\n",
    "-0.0606816476\n",
    "-0.0400199736\n",
    "-0.0193076859\n",
    "-0.0002758555\n",
    "0];\n",
    "SR = [0.0018378341\n",
    "-0.0872664626\n",
    "-0.0538683515\n",
    "-0.0122280134\n",
    "-0.0618314208\n",
    "-0.0872664626\n",
    "-0.0872664626\n",
    "-0.0872664626\n",
    "-0.0872664626\n",
    "-0.0872664626\n",
    "-0.0872664626\n",
    "-0.0872664626\n",
    "-0.0824280405\n",
    "0.0871204536\n",
    "0.0623013591\n",
    "0.0215345747\n",
    "-0.0135454874\n",
    "-0.0354208073\n",
    "-0.0468170382\n",
    "-0.0176921857\n",
    "-0.0110701911\n",
    "-0.0084612968\n",
    "-0.0062552611\n",
    "0.0696493881\n",
    "0.0872664626\n",
    "0.0872664626\n",
    "0.0872664626\n",
    "0.0872664626\n",
    "0.0872664626\n",
    "0.0872664626\n",
    "0.0872664626\n",
    "0.0872664626\n",
    "0.0872664626\n",
    "0.0835992629\n",
    "-0.0116545932\n",
    "-0.0454165845\n",
    "-0.0414031286\n",
    "-0.0279195574\n",
    "-0.0160595698\n",
    "-0.0089313523\n",
    "-0.0063454073\n",
    "-0.0047466238\n",
    "-0.0030895159\n",
    "-0.0011262285\n",
    "-0.0010876484\n",
    "0];"
   ]
  },
  {
   "cell_type": "markdown",
   "metadata": {
    "collapsed": true
   },
   "source": [
    "# Now we are going to check the data and throw away data where dt[i]==dt[i+1]\n",
    "For more information on why we are doing this, check [Investigation of dt[i] == 0 && Interpolation of control signals for VehicleModel] in the main folder."
   ]
  },
  {
   "cell_type": "code",
   "execution_count": 5,
   "metadata": {
    "collapsed": false
   },
   "outputs": [],
   "source": [
    "sp_SR=Linear_Spline(t,SR);\n",
    "sp_Jx=Linear_Spline(t,Jx);"
   ]
  },
  {
   "cell_type": "code",
   "execution_count": 6,
   "metadata": {
    "collapsed": false
   },
   "outputs": [
    {
     "data": {
      "text/plain": [
       "8-element Array{Float64,1}:\n",
       " 200.0   \n",
       "   0.0   \n",
       "   1.5708\n",
       "   0.0   \n",
       "  15.0   \n",
       "   0.0   \n",
       "   0.0   \n",
       "   0.0   "
      ]
     },
     "execution_count": 6,
     "metadata": {},
     "output_type": "execute_result"
    }
   ],
   "source": [
    "x0 = [200,0,pi/2,0,15,0,0,0]; # for testing"
   ]
  },
  {
   "cell_type": "code",
   "execution_count": 7,
   "metadata": {
    "collapsed": false
   },
   "outputs": [
    {
     "ename": "LoadError",
     "evalue": "LoadError: BoundsError: attempt to access ([200.0,0.0,1.5708,0.0,15.0,0.0,0.0,0.0],Spline1D(knots=[0.0,0.2 … 6.56959,6.76959] (38 elements), k=1, extrapolation=\"nearest\", residual=0.0),Spline1D(knots=[0.0,0.2 … 6.56959,6.76959] (38 elements), k=1, extrapolation=\"nearest\", residual=0.0))\n  at index [4]\nwhile loading In[7], in expression starting on line 1",
     "output_type": "error",
     "traceback": [
      "LoadError: BoundsError: attempt to access ([200.0,0.0,1.5708,0.0,15.0,0.0,0.0,0.0],Spline1D(knots=[0.0,0.2 … 6.56959,6.76959] (38 elements), k=1, extrapolation=\"nearest\", residual=0.0),Spline1D(knots=[0.0,0.2 … 6.56959,6.76959] (38 elements), k=1, extrapolation=\"nearest\", residual=0.0))\n  at index [4]\nwhile loading In[7], in expression starting on line 1",
      "",
      " in collect_to!(::Array{Dierckx.Spline1D,1}, ::Base.Generator{UnitRange{Int64},Base.##21#22{Tuple{Array{Float64,1},Dierckx.Spline1D,Dierckx.Spline1D}}}, ::Int64, ::Int64) at ./array.jl:340",
      " in collect_to_with_first!(::Array{Dierckx.Spline1D,1}, ::Dierckx.Spline1D, ::Base.Generator{UnitRange{Int64},Base.##21#22{Tuple{Array{Float64,1},Dierckx.Spline1D,Dierckx.Spline1D}}}, ::Int64) at ./array.jl:327",
      " in collect(::Base.Generator{UnitRange{Int64},Base.##21#22{Tuple{Array{Float64,1},Dierckx.Spline1D,Dierckx.Spline1D}}}) at ./array.jl:308",
      " in getindex(::Tuple{Array{Float64,1},Dierckx.Spline1D,Dierckx.Spline1D}, ::UnitRange{Int64}) at ./tuple.jl:10",
      " in Three_DOF(::Array{Float64,1}, ::Vararg{Any,N}) at /home/febbo/.julia/v0.5/VehicleModels/src/VehicleModels.jl:30"
     ]
    }
   ],
   "source": [
    "Three_DOF(x0,sp_SR,sp_Jx)"
   ]
  },
  {
   "cell_type": "code",
   "execution_count": null,
   "metadata": {
    "collapsed": true
   },
   "outputs": [],
   "source": []
  }
 ],
 "metadata": {
  "anaconda-cloud": {},
  "kernelspec": {
   "display_name": "Julia 0.5.0",
   "language": "julia",
   "name": "julia-0.5"
  },
  "language_info": {
   "file_extension": ".jl",
   "mimetype": "application/julia",
   "name": "julia",
   "version": "0.5.0"
  }
 },
 "nbformat": 4,
 "nbformat_minor": 1
}
